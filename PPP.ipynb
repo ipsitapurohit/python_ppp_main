{
 "cells": [
  {
   "cell_type": "markdown",
   "id": "c83ea793",
   "metadata": {},
   "source": [
    "# Dependencies and clean up "
   ]
  },
  {
   "cell_type": "code",
   "execution_count": null,
   "id": "300d3434",
   "metadata": {},
   "outputs": [],
   "source": [
    "# import dependencies\n",
    "import pandas as pd\n",
    "import matplotlib.pyplot as plt\n",
    "import seaborn as sns\n",
    "from pathlib import Path\n",
    "from scipy.stats import pearsonr"
   ]
  },
  {
   "cell_type": "code",
   "execution_count": null,
   "id": "1111dd1c",
   "metadata": {},
   "outputs": [],
   "source": [
    "# Store filepath into variable\n",
    "healthcare_dataset_csv = Path(\"Data/healthcare_dataset.csv\")"
   ]
  },
  {
   "cell_type": "code",
   "execution_count": null,
   "id": "13c55957",
   "metadata": {},
   "outputs": [],
   "source": [
    "# Reading in file.\n",
    "# adding three boolean columns for all the 3 diseases(0 = 'FALSE', 1 = 'TRUE').\n",
    "healthcare_dataset_df = pd.read_csv(healthcare_dataset_csv)\n",
    "healthcare_dataset_df['hypertension_bool'] = healthcare_dataset_df['hypertension'].astype(bool)\n",
    "healthcare_dataset_df['heart_disease_bool'] = healthcare_dataset_df['heart_disease'].astype(bool)\n",
    "healthcare_dataset_df['diabetes_bool'] = healthcare_dataset_df['diabetes'].astype(bool)\n",
    "healthcare_dataset_df.head()"
   ]
  },
  {
   "cell_type": "code",
   "execution_count": null,
   "id": "79a2353e",
   "metadata": {},
   "outputs": [],
   "source": [
    "#handling missing values\n",
    "healthcare_dataset_df.isnull().sum()"
   ]
  },
  {
   "cell_type": "code",
   "execution_count": null,
   "id": "a9bc551f",
   "metadata": {},
   "outputs": [],
   "source": [
    "# removing duplicate rows.\n",
    "healthcare_dataset_df = healthcare_dataset_df.drop_duplicates()"
   ]
  },
  {
   "cell_type": "code",
   "execution_count": null,
   "id": "996a9422",
   "metadata": {},
   "outputs": [],
   "source": [
    "# renaming the Column header Names:\n",
    "healthcare_dataset_df.columns = healthcare_dataset_df.columns.str.upper()\n",
    "healthcare_dataset_df.head()"
   ]
  },
  {
   "cell_type": "code",
   "execution_count": null,
   "id": "e7ee30df",
   "metadata": {},
   "outputs": [],
   "source": [
    "# Converting Data Types:\n",
    "healthcare_dataset_df['AGE'] = healthcare_dataset_df['AGE'].astype(int)\n",
    "healthcare_dataset_df['BLOOD_GLUCOSE_LEVEL'] = healthcare_dataset_df['BLOOD_GLUCOSE_LEVEL'].astype(float)\n",
    "healthcare_dataset_df.head()"
   ]
  },
  {
   "cell_type": "markdown",
   "id": "ad2e1d70",
   "metadata": {},
   "source": [
    "# Correlation between each disease and age"
   ]
  },
  {
   "cell_type": "code",
   "execution_count": null,
   "id": "fc77db02",
   "metadata": {},
   "outputs": [],
   "source": [
    "# Calculate correlation coefficient between age and hypertension\n",
    "correlation_age_hypertension, _ = pearsonr(healthcare_dataset_df['AGE'], healthcare_dataset_df['HYPERTENSION_BOOL'])\n",
    "print(f\"Correlation between age and hypertension_bool is : {correlation_age_hypertension:.2f}\")"
   ]
  },
  {
   "cell_type": "code",
   "execution_count": null,
   "id": "d10ee930",
   "metadata": {},
   "outputs": [],
   "source": [
    "\n",
    "# Box plot\n",
    "plt.figure(figsize=(10, 6))\n",
    "sns.boxplot(x='HYPERTENSION_BOOL', y='AGE', data=healthcare_dataset_df)\n",
    "plt.title('Box Plot of Age for Hypertension (True/False)')\n",
    "plt.xlabel('Hypertension')\n",
    "plt.ylabel('Age')\n",
    "plt.show()\n"
   ]
  },
  {
   "cell_type": "code",
   "execution_count": null,
   "id": "1126ed74",
   "metadata": {},
   "outputs": [],
   "source": [
    "# Calculate correlation coefficient between age and heart_disease\n",
    "correlation_age_heart_disease, _ = pearsonr(healthcare_dataset_df['AGE'], healthcare_dataset_df['HEART_DISEASE_BOOL'])\n",
    "print(f\"Correlation between age and heart disease is : {correlation_age_heart_disease:.2f}\")"
   ]
  },
  {
   "cell_type": "code",
   "execution_count": null,
   "id": "2ba13eb1",
   "metadata": {},
   "outputs": [],
   "source": [
    "# Box plot\n",
    "plt.figure(figsize=(10, 6))\n",
    "sns.boxplot(x='HEART_DISEASE_BOOL', y='AGE', data=healthcare_dataset_df)\n",
    "plt.title('Box Plot of Age for Hypertension (True/False)')\n",
    "plt.xlabel('HEART_DISEASE')\n",
    "plt.ylabel('Age')\n",
    "plt.show()"
   ]
  },
  {
   "cell_type": "markdown",
   "id": "105de411",
   "metadata": {},
   "source": [
    "# Pie chart of 60+ only, percent true or false for each disease"
   ]
  },
  {
   "cell_type": "code",
   "execution_count": null,
   "id": "0835108d",
   "metadata": {},
   "outputs": [],
   "source": [
    "# Create dataframe with only patients over 60\n",
    "over_60_df = healthcare_dataset_df.loc[healthcare_dataset_df['AGE'] >= 60]\n",
    "over_60_df.head()\n"
   ]
  },
  {
   "cell_type": "code",
   "execution_count": null,
   "id": "b58f5a82",
   "metadata": {},
   "outputs": [],
   "source": [
    "# Distribution of heart disease in patients over 60\n",
    "heart_disease_over_60 = over_60_df['HEART_DISEASE_BOOL'].value_counts()\n",
    "\n",
    "# Pie chart\n",
    "plt.figure(figsize=(10, 6))\n",
    "plt.pie(heart_disease_over_60, labels=heart_disease_over_60.index, autopct='%1.1f%%', startangle=140)\n",
    "plt.title('Distribution of Heart Disease in Patients Over 60')\n",
    "plt.show()\n",
    "\n",
    "heart_disease_over_60\n"
   ]
  },
  {
   "cell_type": "code",
   "execution_count": null,
   "id": "88044f4f",
   "metadata": {},
   "outputs": [],
   "source": [
    "# Distribution of diabetes in patients over 60\n",
    "diabetes_over_60 = over_60_df['DIABETES_BOOL'].value_counts()\n",
    "\n",
    "# Pie chart\n",
    "plt.figure(figsize=(10, 6))\n",
    "plt.pie(diabetes_over_60, labels=diabetes_over_60.index, autopct='%1.1f%%', startangle=140)\n",
    "plt.title('Distribution of Diabetes in Patients Over 60')\n",
    "plt.show()\n",
    "\n",
    "diabetes_over_60\n"
   ]
  },
  {
   "cell_type": "code",
   "execution_count": null,
   "id": "f9f7321f",
   "metadata": {},
   "outputs": [],
   "source": [
    "# Distribution of diabetes in Hypertension over 60\n",
    "hypertension_over_60 = over_60_df['HYPERTENSION_BOOL'].value_counts()\n",
    "\n",
    "# Pie chart\n",
    "plt.figure(figsize=(10, 6))\n",
    "plt.pie(hypertension_over_60, labels=hypertension_over_60.index, autopct='%1.1f%%', startangle=140)\n",
    "plt.title('Distribution of Hypertension in Patients Over 60')\n",
    "plt.show()\n",
    "\n",
    "hypertension_over_60"
   ]
  },
  {
   "cell_type": "code",
   "execution_count": null,
   "id": "14938b5e",
   "metadata": {},
   "outputs": [],
   "source": [
    "# Distribution of having any of the 3 diseases in patients over 60\n",
    "# Create a dataframe with a new column 'ANY_DISEASE' that is True if the patient has any of the 3 diseases\n",
    "over_60_df['ANY_DISEASE'] = over_60_df['HYPERTENSION_BOOL'] | over_60_df['HEART_DISEASE_BOOL'] | over_60_df['DIABETES_BOOL']\n",
    "any_disease_over_60 = over_60_df['ANY_DISEASE'].value_counts()\n",
    "over_60_df.head()"
   ]
  },
  {
   "cell_type": "code",
   "execution_count": null,
   "id": "881b5ab7",
   "metadata": {},
   "outputs": [],
   "source": [
    "# Display a pie chart of the distribution of having any of the 3 diseases in patients over 60\n",
    "plt.figure(figsize=(10, 6))\n",
    "plt.pie(any_disease_over_60, labels=any_disease_over_60.index, autopct='%1.1f%%', startangle=140)\n",
    "plt.title('Distribution of Having Any of the 3 Diseases in Patients Over 60')\n",
    "plt.show()\n"
   ]
  },
  {
   "cell_type": "markdown",
   "id": "af94bfd3",
   "metadata": {},
   "source": [
    "# What's the correlation between smoking history and the three diseases?"
   ]
  },
  {
   "cell_type": "code",
   "execution_count": null,
   "id": "4a6b3b57",
   "metadata": {},
   "outputs": [],
   "source": [
    "# Remove rows with 'No Info' in smoking_status column\n",
    "healthcare_dataset_smoke_df = healthcare_dataset_df[healthcare_dataset_df['SMOKING_HISTORY'] != 'No Info']\n",
    "healthcare_dataset_smoke_df.head()"
   ]
  },
  {
   "cell_type": "code",
   "execution_count": null,
   "id": "ae869634",
   "metadata": {},
   "outputs": [],
   "source": [
    "# Calculate correlation coefficient between smoking history and (diabetes) \n",
    "correlation_smoking_diabetes_never, _ = pearsonr(healthcare_dataset_smoke_df['SMOKING_HISTORY'] == 'never', healthcare_dataset_smoke_df['DIABETES_BOOL'])\n",
    "correlation_smoking_diabetes_current, _ = pearsonr(healthcare_dataset_smoke_df['SMOKING_HISTORY'] == 'current', healthcare_dataset_smoke_df['DIABETES_BOOL'])\n",
    "correlation_smoking_diabetes_former, _ = pearsonr(healthcare_dataset_smoke_df['SMOKING_HISTORY'] == 'former', healthcare_dataset_smoke_df['DIABETES_BOOL'])\n",
    "correlation_smoking_diabetes_ever, _ = pearsonr(healthcare_dataset_smoke_df['SMOKING_HISTORY'] == 'ever', healthcare_dataset_smoke_df['DIABETES_BOOL'])\n",
    "correlation_smoking_diabetes_not_current, _ = pearsonr(healthcare_dataset_smoke_df['SMOKING_HISTORY'] == 'not current', healthcare_dataset_smoke_df['DIABETES_BOOL'])\n",
    "\n",
    "\n",
    "print(f\"Correlation between a 'Never'smoking history and diabetes is : {correlation_smoking_diabetes_never:.4f}\")\n",
    "print(f\"Correlation between a 'current'smoking history and diabetes is : {correlation_smoking_diabetes_current:.4f}\")\n",
    "print(f\"Correlation between a 'former'smoking history and diabetes is : {correlation_smoking_diabetes_former:.4f}\")\n",
    "print(f\"Correlation between a 'ever'smoking history and diabetes is : {correlation_smoking_diabetes_ever:.4f}\")\n",
    "print(f\"Correlation between a 'not current'smoking history and diabetes is : {correlation_smoking_diabetes_not_current:.4f}\")"
   ]
  },
  {
   "cell_type": "code",
   "execution_count": null,
   "id": "89d3164f",
   "metadata": {},
   "outputs": [],
   "source": [
    "# Calculate correlation coefficient between smoking history and (hypertension)\n",
    "correlation_smoking_hypertension_never, _ = pearsonr(healthcare_dataset_smoke_df['SMOKING_HISTORY'] == 'never', healthcare_dataset_smoke_df['HYPERTENSION_BOOL'])\n",
    "correlation_smoking_hypertension_current, _ = pearsonr(healthcare_dataset_smoke_df['SMOKING_HISTORY'] == 'current', healthcare_dataset_smoke_df['HYPERTENSION_BOOL'])\n",
    "correlation_smoking_hypertension_former, _ = pearsonr(healthcare_dataset_smoke_df['SMOKING_HISTORY'] == 'former', healthcare_dataset_smoke_df['HYPERTENSION_BOOL'])\n",
    "correlation_smoking_hypertension_ever, _ = pearsonr(healthcare_dataset_smoke_df['SMOKING_HISTORY'] == 'ever', healthcare_dataset_smoke_df['HYPERTENSION_BOOL'])\n",
    "correlation_smoking_hypertension_not_current, _ = pearsonr(healthcare_dataset_smoke_df['SMOKING_HISTORY'] == 'not current', healthcare_dataset_smoke_df['HYPERTENSION_BOOL'])\n",
    "\n",
    "\n",
    "print(f\"Correlation between a 'Never'smoking history and hypertension is : {correlation_smoking_hypertension_never:.4f}\")\n",
    "print(f\"Correlation between a 'current'smoking history and hypertension is : {correlation_smoking_hypertension_current:.4f}\")\n",
    "print(f\"Correlation between a 'former'smoking history and hypertension is : {correlation_smoking_hypertension_former:.4f}\")\n",
    "print(f\"Correlation between a 'ever'smoking history and hypertension is : {correlation_smoking_hypertension_ever:.4f}\")\n",
    "print(f\"Correlation between a 'not current'smoking history and hypertension is : {correlation_smoking_hypertension_not_current:.4f}\")"
   ]
  },
  {
   "cell_type": "code",
   "execution_count": null,
   "id": "c0079257",
   "metadata": {},
   "outputs": [],
   "source": [
    "# Calculate correlation coefficient between smoking history and (heart disease)\n",
    "correlation_smoking_hypertension_never, _ = pearsonr(healthcare_dataset_smoke_df['SMOKING_HISTORY'] == 'never', healthcare_dataset_smoke_df['HEART_DISEASE_BOOL'])\n",
    "correlation_smoking_hypertension_current, _ = pearsonr(healthcare_dataset_smoke_df['SMOKING_HISTORY'] == 'current', healthcare_dataset_smoke_df['HEART_DISEASE_BOOL'])\n",
    "correlation_smoking_hypertension_former, _ = pearsonr(healthcare_dataset_smoke_df['SMOKING_HISTORY'] == 'former', healthcare_dataset_smoke_df['HEART_DISEASE_BOOL'])\n",
    "correlation_smoking_hypertension_ever, _ = pearsonr(healthcare_dataset_smoke_df['SMOKING_HISTORY'] == 'ever', healthcare_dataset_smoke_df['HEART_DISEASE_BOOL'])\n",
    "correlation_smoking_hypertension_not_current, _ = pearsonr(healthcare_dataset_smoke_df['SMOKING_HISTORY'] == 'not current', healthcare_dataset_smoke_df['HEART_DISEASE_BOOL'])\n",
    "\n",
    "\n",
    "print(f\"Correlation between a 'Never'smoking history and heart disease is : {correlation_smoking_hypertension_never:.4f}\")\n",
    "print(f\"Correlation between a 'current'smoking history and heart disease is : {correlation_smoking_hypertension_current:.4f}\")\n",
    "print(f\"Correlation between a 'former'smoking history and heart disease is : {correlation_smoking_hypertension_former:.4f}\")\n",
    "print(f\"Correlation between a 'ever'smoking history and heart disease is : {correlation_smoking_hypertension_ever:.4f}\")\n",
    "print(f\"Correlation between a 'not current'smoking history and heart disease is : {correlation_smoking_hypertension_not_current:.4f}\")"
   ]
  },
  {
   "cell_type": "code",
   "execution_count": null,
   "id": "49988f1b",
   "metadata": {},
   "outputs": [],
   "source": [
    "# Display bar chart of correlation between smoking history and (diabetes)\n",
    "smoking_diabetes_corr_y = [correlation_smoking_diabetes_never, correlation_smoking_diabetes_current, correlation_smoking_diabetes_former, correlation_smoking_diabetes_ever, correlation_smoking_diabetes_not_current]\n",
    "smoking_diabetes_corr_x = ['Never', 'Current', 'Former', 'Ever', 'Not Current']\n",
    "plt.bar(smoking_diabetes_corr_x, smoking_diabetes_corr_y)\n",
    "plt.title('Correlation between Smoking History and Diabetes')\n",
    "plt.xlabel('Smoking History')\n",
    "plt.ylabel('Correlation')\n",
    "plt.show()"
   ]
  },
  {
   "cell_type": "code",
   "execution_count": null,
   "id": "c096ffdf",
   "metadata": {},
   "outputs": [],
   "source": [
    "# Display bar chart of correlation between smoking history and (hypertension)\n",
    "smoking_hypertension_corr_y = [correlation_smoking_hypertension_never, correlation_smoking_hypertension_current, correlation_smoking_hypertension_former, correlation_smoking_hypertension_ever, correlation_smoking_hypertension_not_current]\n",
    "smoking_hypertension_corr_x = ['Never', 'Current', 'Former', 'Ever', 'Not Current']\n",
    "plt.bar(smoking_hypertension_corr_x, smoking_hypertension_corr_y)\n",
    "plt.title('Correlation between Smoking History and Hypertension')\n",
    "plt.xlabel('Smoking History')\n",
    "plt.ylabel('Correlation')\n",
    "plt.show()"
   ]
  },
  {
   "cell_type": "code",
   "execution_count": null,
   "id": "9bf9c8c1",
   "metadata": {},
   "outputs": [],
   "source": [
    "# Display bar chart of correlation between smoking history and (heart disease)\n",
    "smoking_heart_disease_corr_y = [correlation_smoking_hypertension_never, correlation_smoking_hypertension_current, correlation_smoking_hypertension_former, correlation_smoking_hypertension_ever, correlation_smoking_hypertension_not_current]\n",
    "smoking_heart_disease_corr_x = ['Never', 'Current', 'Former', 'Ever', 'Not Current']\n",
    "plt.bar(smoking_heart_disease_corr_x, smoking_heart_disease_corr_y)\n",
    "plt.title('Correlation between Smoking History and Heart Disease')\n",
    "plt.xlabel('Smoking History')\n",
    "plt.ylabel('Correlation')\n",
    "plt.show()"
   ]
  },
  {
   "cell_type": "markdown",
   "id": "98e30b22",
   "metadata": {},
   "source": [
    "# Age distribution based on smoking history\n"
   ]
  },
  {
   "cell_type": "code",
   "execution_count": null,
   "id": "873d3bbe",
   "metadata": {},
   "outputs": [],
   "source": [
    "# Create a dataframe with only Former smokers\n",
    "former_smokers_df = healthcare_dataset_smoke_df[healthcare_dataset_smoke_df['SMOKING_HISTORY'] == 'former']\n",
    "former_smokers_df.head(9299)\n",
    "\n",
    "# Age distribution of former smokers\n",
    "plt.figure(figsize=(10, 6))\n",
    "sns.histplot(former_smokers_df['AGE'], kde=True)\n",
    "plt.title('Age Distribution of Former Smokers')\n",
    "plt.xlabel('Age')\n",
    "plt.ylabel('Count')\n",
    "plt.show()"
   ]
  },
  {
   "cell_type": "code",
   "execution_count": null,
   "id": "538ad63f",
   "metadata": {},
   "outputs": [],
   "source": [
    "# Create a dataframe with only Current smokers\n",
    "current_smokers_df = healthcare_dataset_smoke_df[healthcare_dataset_smoke_df['SMOKING_HISTORY'] == 'current']\n",
    "current_smokers_df.head(9197)\n",
    "\n",
    "# Age distribution of current smokers\n",
    "plt.figure(figsize=(10, 6))\n",
    "sns.histplot(current_smokers_df['AGE'], kde=True)\n",
    "plt.title('Age Distribution of Current Smokers')\n",
    "plt.xlabel('Age')\n",
    "plt.ylabel('Count')\n",
    "plt.show()"
   ]
  },
  {
   "cell_type": "code",
   "execution_count": null,
   "id": "02bbafe4",
   "metadata": {},
   "outputs": [],
   "source": [
    "# Create a dataframe with only Never smokers\n",
    "never_smokers_df = healthcare_dataset_smoke_df[healthcare_dataset_smoke_df['SMOKING_HISTORY'] == 'never']\n",
    "never_smokers_df.head(9197)\n",
    "\n",
    "# Age distribution of never smokers\n",
    "plt.figure(figsize=(10, 6))\n",
    "sns.histplot(never_smokers_df['AGE'], kde=True)\n",
    "plt.title('Age Distribution of Never Smokers')\n",
    "plt.xlabel('Age')\n",
    "plt.ylabel('Count')\n",
    "plt.show()"
   ]
  },
  {
   "cell_type": "code",
   "execution_count": null,
   "id": "d03f5aae",
   "metadata": {},
   "outputs": [],
   "source": [
    "# Create a dataframe with only Ever smokers\n",
    "ever_smokers_df = healthcare_dataset_smoke_df[healthcare_dataset_smoke_df['SMOKING_HISTORY'] == 'ever']\n",
    "ever_smokers_df.head(9197)\n",
    "\n",
    "# Age distribution of ever smokers\n",
    "plt.figure(figsize=(10, 6))\n",
    "sns.histplot(ever_smokers_df['AGE'], kde=True)\n",
    "plt.title('Age Distribution of Ever Smokers')\n",
    "plt.xlabel('Age')\n",
    "plt.ylabel('Count')\n",
    "plt.show()"
   ]
  },
  {
   "cell_type": "markdown",
   "id": "044ae3af",
   "metadata": {},
   "source": [
    "# Census API"
   ]
  },
  {
   "cell_type": "code",
   "execution_count": null,
   "id": "3793f4cb",
   "metadata": {},
   "outputs": [],
   "source": [
    "# Import U.S. Census API Key\n",
    "from census import Census\n",
    "from config import api_key\n",
    "\n",
    "# Create an instance of the Census library\n",
    "c = Census(\n",
    "    api_key,\n",
    "    year = 2022\n",
    ")\n"
   ]
  },
  {
   "cell_type": "code",
   "execution_count": null,
   "id": "834cf444",
   "metadata": {},
   "outputs": [],
   "source": [
    "# Get Arizona's total population data\n",
    "az_pop = c.acs5.get(('NAME', 'B01003_001E'), {'for': 'state:04'})\n",
    "\n",
    "# 'NAME' is the name of the state\n",
    "# 'B01003_001E' is the Census code for total population\n",
    "# 'for': 'state:04' means get data for Arizona (state code 04)\n",
    "\n",
    "# Print the data\n",
    "for data in az_pop:\n",
    "    print(data)"
   ]
  },
  {
   "cell_type": "markdown",
   "id": "b20fda4e",
   "metadata": {},
   "source": [
    "# Gather census data. Create pie chart of how over 60, histogram of different age groups. "
   ]
  },
  {
   "cell_type": "code",
   "execution_count": null,
   "id": "23609579",
   "metadata": {},
   "outputs": [],
   "source": [
    "# Get Arizona's total population data broken down by age\n",
    "az_pop_age = c.acs5.get(('NAME', 'B01001_001E', 'B01001_003E', 'B01001_004E', 'B01001_005E', 'B01001_006E', \n",
    "                         'B01001_007E', 'B01001_008E', 'B01001_009E', 'B01001_010E', 'B01001_011E', 'B01001_012E', \n",
    "                         'B01001_013E', 'B01001_014E', 'B01001_015E', 'B01001_016E', 'B01001_017E', 'B01001_018E', \n",
    "                         'B01001_019E', 'B01001_020E', 'B01001_021E', 'B01001_022E', 'B01001_023E', 'B01001_024E', \n",
    "                         'B01001_025E', 'B01001_026E', 'B01001_027E', 'B01001_028E', 'B01001_029E', 'B01001_030E', \n",
    "                         'B01001_031E', 'B01001_032E', 'B01001_033E', 'B01001_034E', 'B01001_035E', 'B01001_036E', \n",
    "                         'B01001_037E', 'B01001_038E', 'B01001_039E', 'B01001_040E', 'B01001_041E', 'B01001_042E', \n",
    "                         'B01001_043E', 'B01001_044E', 'B01001_045E', 'B01001_046E', 'B01001_047E', 'B01001_048E', \n",
    "                         'B01001_049E'), {'for': 'state:04'})\n",
    "\n",
    "# 'NAME' is the name of the state\n",
    "# 'B01001_001E' is the Census code for total population\n",
    "# 'B01001_003E' to 'B01001_049E' are the Census codes for population by age for both genders\n",
    "# 'B01001_003E' to 'B01001_034E' are for men \n",
    "# 'B01001_035E' to 'B01001_049E' are for women\n",
    "# 'for': 'state:04' means get data for Arizona (state code 04)\n",
    "\n",
    "# Print the data\n",
    "for data in az_pop_age:\n",
    "    print(data)\n",
    "\n"
   ]
  },
  {
   "cell_type": "code",
   "execution_count": null,
   "id": "5f83c53b",
   "metadata": {},
   "outputs": [],
   "source": [
    "# Create a dataframe from the population data\n",
    "az_pop_age_df = pd.DataFrame(az_pop_age)\n",
    "\n",
    "# Change the column names\n",
    "az_pop_age_df = az_pop_age_df.rename(columns={\n",
    "    'B01001_001E': 'Total population',\n",
    "    'B01001_002E': 'Male: Total',\n",
    "    'B01001_003E': 'Male: Under 5 years',\n",
    "    'B01001_004E': 'Male: 5 to 9 years',\n",
    "    'B01001_005E': 'Male: 10 to 14 years',\n",
    "    'B01001_006E': 'Male: 15 to 17 years',\n",
    "    'B01001_007E': 'Male: 18 and 19 years',\n",
    "    'B01001_008E': 'Male: 20 years',\n",
    "    'B01001_009E': 'Male: 21 years',\n",
    "    'B01001_010E': 'Male: 22 to 24 years',\n",
    "    'B01001_011E': 'Male: 25 to 29 years',\n",
    "    'B01001_012E': 'Male: 30 to 34 years',\n",
    "    'B01001_013E': 'Male: 35 to 39 years',\n",
    "    'B01001_014E': 'Male: 40 to 44 years',\n",
    "    'B01001_015E': 'Male: 45 to 49 years',\n",
    "    'B01001_016E': 'Male: 50 to 54 years',\n",
    "    'B01001_017E': 'Male: 55 to 59 years',\n",
    "    'B01001_018E': 'Male: 60 and 61 years',\n",
    "    'B01001_019E': 'Male: 62 to 64 years',\n",
    "    'B01001_020E': 'Male: 65 and 66 years',\n",
    "    'B01001_021E': 'Male: 67 to 69 years',\n",
    "    'B01001_022E': 'Male: 70 to 74 years',\n",
    "    'B01001_023E': 'Male: 75 to 79 years',\n",
    "    'B01001_024E': 'Male: 80 to 84 years',\n",
    "    'B01001_025E': 'Male: 85 years and over',\n",
    "    'B01001_026E': 'Female: Total',\n",
    "    'B01001_027E': 'Female: Under 5 years',\n",
    "    'B01001_028E': 'Female: 5 to 9 years',\n",
    "    'B01001_029E': 'Female: 10 to 14 years',\n",
    "    'B01001_030E': 'Female: 15 to 17 years',\n",
    "    'B01001_031E': 'Female: 18 and 19 years',\n",
    "    'B01001_032E': 'Female: 20 years',\n",
    "    'B01001_033E': 'Female: 21 years',\n",
    "    'B01001_034E': 'Female: 22 to 24 years',\n",
    "    'B01001_035E': 'Female: 25 to 29 years',\n",
    "    'B01001_036E': 'Female: 30 to 34 years',\n",
    "    'B01001_037E': 'Female: 35 to 39 years',\n",
    "    'B01001_038E': 'Female: 40 to 44 years',\n",
    "    'B01001_039E': 'Female: 45 to 49 years',\n",
    "    'B01001_040E': 'Female: 50 to 54 years',\n",
    "    'B01001_041E': 'Female: 55 to 59 years',\n",
    "    'B01001_042E': 'Female: 60 and 61 years',\n",
    "    'B01001_043E': 'Female: 62 to 64 years',\n",
    "    'B01001_044E': 'Female: 65 and 66 years',\n",
    "    'B01001_045E': 'Female: 67 to 69 years',\n",
    "    'B01001_046E': 'Female: 70 to 74 years',\n",
    "    'B01001_047E': 'Female: 75 to 79 years',\n",
    "    'B01001_048E': 'Female: 80 to 84 years',\n",
    "    'B01001_049E': 'Female: 85 years and over'\n",
    "})\n",
    "\n",
    "# Display the dataframe\n",
    "az_pop_age_df.head()\n",
    "\n",
    "# Create a csv file from the dataframe\n",
    "# az_pop_age_df.to_csv('Data/az_population_by_age.csv', index=False)\n"
   ]
  },
  {
   "cell_type": "code",
   "execution_count": null,
   "id": "956e3443",
   "metadata": {},
   "outputs": [],
   "source": [
    "# Create Dataframe for the age group 60 and over\n",
    "az_pop_age_60_df = az_pop_age_df[['Male: 60 and 61 years', 'Male: 62 to 64 years', \n",
    "                                  'Male: 65 and 66 years', 'Male: 67 to 69 years', \n",
    "                                  'Male: 70 to 74 years', 'Male: 75 to 79 years', \n",
    "                                  'Male: 80 to 84 years', 'Male: 85 years and over',\n",
    "                                  'Female: 60 and 61 years', 'Female: 62 to 64 years',\n",
    "                                  'Female: 65 and 66 years', 'Female: 67 to 69 years',\n",
    "                                  'Female: 70 to 74 years', 'Female: 75 to 79 years',\n",
    "                                  'Female: 80 to 84 years', 'Female: 85 years and over']]\n",
    "az_pop_age_60_df\n",
    "\n",
    "# Sum of males over 60\n",
    "male_over_60 = az_pop_age_60_df[['Male: 60 and 61 years', 'Male: 62 to 64 years', \n",
    "                              'Male: 65 and 66 years', 'Male: 67 to 69 years', \n",
    "                              'Male: 70 to 74 years', 'Male: 75 to 79 years', \n",
    "                              'Male: 80 to 84 years', 'Male: 85 years and over']].sum().sum()\n",
    "print(f'The population of females over 60 in AZ is {male_over_60}')\n",
    "\n",
    "# Sum of females over 60\n",
    "female_over_60 = az_pop_age_60_df[['Female: 65 and 66 years', 'Female: 67 to 69 years',\n",
    "                                  'Female: 70 to 74 years', 'Female: 75 to 79 years',\n",
    "                                  'Female: 80 to 84 years', 'Female: 85 years and over']].sum().sum()\n",
    "print(f'The population of females over 60 in AZ is {female_over_60}')\n",
    "\n",
    "# Total population over 60\n",
    "total_over = int(female_over_60 + male_over_60)\n",
    "print(f'The total population over 60 in AZ is {total_over}')\n",
    "\n",
    "# Total population in AZ\n",
    "total_population = az_pop_age_df['Total population']\n",
    "print(f'The total population in AZ is {total_population}')\n",
    "\n",
    "# Total population under 60\n",
    "total_under = int(total_population - total_over)\n",
    "print(f'The total population under 60 in AZ is {total_under}')\n",
    "\n",
    "\n"
   ]
  },
  {
   "cell_type": "code",
   "execution_count": null,
   "id": "a80730ff",
   "metadata": {},
   "outputs": [],
   "source": [
    "# Create a pie chart of \n",
    "\n",
    "# Data to plot\n",
    "labels = 'Over 60 yrs', 'Under 60 yrs'\n",
    "sizes = [total_over, total_under]\n",
    "colors = ['gold', 'yellowgreen']\n",
    "explode = (0.1, 0)  # explode 1st slice\n",
    "\n",
    "# Plot\n",
    "plt.pie(sizes, explode=explode, labels=labels, colors=colors,\n",
    "autopct='%1.1f%%', shadow=True, startangle=140)\n",
    "\n",
    "plt.axis('equal')\n",
    "plt.title('Population Distribution in Arizona')\n",
    "plt.show()"
   ]
  },
  {
   "cell_type": "code",
   "execution_count": null,
   "id": "b48b0f8e",
   "metadata": {},
   "outputs": [],
   "source": [
    "# Calculate the percentage of the population over 60 that will suffer from at least one of the 3 diseases\n",
    "any_disease_over_60_true = any_disease_over_60[True]\n",
    "any_disease_over_60_false = any_disease_over_60[False]\n",
    "total_responses = any_disease_over_60_true + any_disease_over_60_false\n",
    "percentage_over_60_affected = (any_disease_over_60_true / total_responses) * 100\n",
    "print(f'{percentage_over_60_affected:.2f}% of the population over 60 will suffer from at least one of the 3 diseases')\n",
    "\n",
    "\n",
    "# of the 21%, 40% of them will sufer at lease one of the 3 diseases\n",
    "az_pop_over_60_affected_percent = (total_over/total_under) * percentage_over_60_affected\n",
    "\n",
    "# calculate how many people in AZ will suffer from at least one of the 3 diseases\n",
    "az_pop_over_60_affected_number = round((az_pop_over_60_affected_percent/100) * total_population).iloc[0]\n",
    "formatted_number = \"{:,}\".format(az_pop_over_60_affected_number)\n",
    "print(f'{formatted_number} people in Arizona are over 60 and suffering from at least one of the 3 diseases')\n",
    "\n"
   ]
  },
  {
   "cell_type": "markdown",
   "id": "13f99905",
   "metadata": {},
   "source": [
    "# Correlation between age and having any of the 3 diseases "
   ]
  },
  {
   "cell_type": "code",
   "execution_count": null,
   "id": "92798ca1",
   "metadata": {},
   "outputs": [],
   "source": [
    "# Create a dataframe with a new column 'ANY_DISEASE' that is True if the patient has any of the 3 diseases\n",
    "healthcare_dataset_df['ANY_DISEASE'] = healthcare_dataset_df['HYPERTENSION_BOOL'] | healthcare_dataset_df['HEART_DISEASE_BOOL'] | healthcare_dataset_df['DIABETES_BOOL']\n",
    "any_disease_count = healthcare_dataset_df['ANY_DISEASE'].value_counts()\n",
    "healthcare_dataset_df.head()\n",
    "\n",
    "print(any_disease_count)\n",
    "\n",
    "any_disease_count_true = any_disease_count[True]\n",
    "any_disease_count_false = any_disease_count[False]\n",
    "total_responses_any_disease = any_disease_count_true + any_disease_count_false\n",
    "percentage_affected = (any_disease_count_true / total_responses_any_disease) * 100\n",
    "print(f'{percentage_affected:.2f}% of the population will suffer from at least one of the 3 diseases')\n",
    "\n",
    "# calculate how many people in the dataset will suffer from at least one of the 3 diseases\n",
    "total_az_pop_affected_number = round((percentage_affected/100) * total_population).iloc[0]\n",
    "formatted_number = \"{:,}\".format(total_az_pop_affected_number)\n",
    "print(f'{formatted_number} people in the dataset are suffering from at least one of the 3 diseases')\n",
    "\n",
    "\n"
   ]
  }
 ],
 "metadata": {
  "kernelspec": {
   "display_name": "Python 3 (ipykernel)",
   "language": "python",
   "name": "python3"
  },
  "language_info": {
   "codemirror_mode": {
    "name": "ipython",
    "version": 3
   },
   "file_extension": ".py",
   "mimetype": "text/x-python",
   "name": "python",
   "nbconvert_exporter": "python",
   "pygments_lexer": "ipython3",
   "version": "3.11.5"
  }
 },
 "nbformat": 4,
 "nbformat_minor": 5
}
