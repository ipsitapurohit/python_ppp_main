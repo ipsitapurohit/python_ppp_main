{
 "cells": [
  {
   "cell_type": "code",
   "execution_count": null,
   "id": "300d3434",
   "metadata": {},
   "outputs": [],
   "source": [
    "# import dependencies\n",
    "import pandas as pd\n",
    "import matplotlib.pyplot as plt\n",
    "from scipy.stats import pearsonr \n",
    "from pathlib import Path\n",
    "import numpy as np\n",
    "import seaborn as sns"
   ]
  },
  {
   "cell_type": "code",
   "execution_count": null,
   "id": "1111dd1c",
   "metadata": {},
   "outputs": [],
   "source": [
    "# Store filepath into variable\n",
    "healthcare_dataset_csv = Path(\"Data/healthcare_dataset.csv\")"
   ]
  },
  {
   "cell_type": "code",
   "execution_count": null,
   "id": "13c55957",
   "metadata": {
    "scrolled": true
   },
   "outputs": [],
   "source": [
    "# Reading in file.\n",
    "# adding three boolean columns for all the 3 diseases(0 = 'FALSE', 1 = 'TRUE').\n",
    "healthcare_dataset_df = pd.read_csv(healthcare_dataset_csv, low_memory=False)\n",
    "healthcare_dataset_df['hypertension_bool'] = healthcare_dataset_df['hypertension'].astype(bool)\n",
    "healthcare_dataset_df['heart_disease_bool'] = healthcare_dataset_df['heart_disease'].astype(bool)\n",
    "healthcare_dataset_df['diabetes_bool'] = healthcare_dataset_df['diabetes'].astype(bool)\n",
    "healthcare_dataset_df.head()"
   ]
  },
  {
   "cell_type": "code",
   "execution_count": null,
   "id": "79a2353e",
   "metadata": {},
   "outputs": [],
   "source": [
    "#handling missing values\n",
    "healthcare_dataset_df.isnull().sum()"
   ]
  },
  {
   "cell_type": "code",
   "execution_count": null,
   "id": "a9bc551f",
   "metadata": {},
   "outputs": [],
   "source": [
    "# removing duplicate rows.\n",
    "healthcare_dataset_df = healthcare_dataset_df.drop_duplicates()"
   ]
  },
  {
   "cell_type": "code",
   "execution_count": null,
   "id": "ffe7d175",
   "metadata": {},
   "outputs": [],
   "source": [
    "len(healthcare_dataset_df)"
   ]
  },
  {
   "cell_type": "code",
   "execution_count": null,
   "id": "996a9422",
   "metadata": {},
   "outputs": [],
   "source": [
    "# renaming the Column header Names:\n",
    "healthcare_dataset_df.columns = healthcare_dataset_df.columns.str.upper()\n",
    "healthcare_dataset_df.head()"
   ]
  },
  {
   "cell_type": "code",
   "execution_count": null,
   "id": "e7ee30df",
   "metadata": {},
   "outputs": [],
   "source": [
    "# Converting Data Types:\n",
    "healthcare_dataset_df['AGE'] = healthcare_dataset_df['AGE'].astype(int)\n",
    "healthcare_dataset_df['BLOOD_GLUCOSE_LEVEL'] = healthcare_dataset_df['BLOOD_GLUCOSE_LEVEL'].astype(float)\n",
    "healthcare_dataset_df.head()"
   ]
  },
  {
   "cell_type": "code",
   "execution_count": null,
   "id": "fc77db02",
   "metadata": {},
   "outputs": [],
   "source": [
    "# Calculate correlation coefficient between age and hypertension\n",
    "correlation_age_hypertension, _ = pearsonr(healthcare_dataset_df['AGE'], healthcare_dataset_df['HYPERTENSION_BOOL'])\n",
    "print(f\"Correlation between age and hypertension is : {correlation_age_hypertension:.2f}\")"
   ]
  },
  {
   "cell_type": "code",
   "execution_count": null,
   "id": "d10ee930",
   "metadata": {},
   "outputs": [],
   "source": [
    "# Plotting the correlation between age and hypertension\n",
    "labels = healthcare_dataset_df['HYPERTENSION_BOOL'].unique()\n",
    "data = [healthcare_dataset_df[healthcare_dataset_df['HYPERTENSION_BOOL'] == label]['AGE'] for label in labels]\n",
    "\n",
    "plt.boxplot(data, labels=labels)\n",
    "plt.title('Box Plot of Age for Hypertension (True/False)')\n",
    "plt.xlabel('Hypertension')\n",
    "plt.ylabel('Age')\n",
    "plt.show()"
   ]
  },
  {
   "cell_type": "code",
   "execution_count": null,
   "id": "1126ed74",
   "metadata": {},
   "outputs": [],
   "source": [
    "# Calculate correlation coefficient between age and heart_disease\n",
    "correlation_age_heart_disease, _ = pearsonr(healthcare_dataset_df['AGE'], healthcare_dataset_df['HEART_DISEASE_BOOL'])\n",
    "print(f\"Correlation between age and heart disease is : {correlation_age_heart_disease:.2f}\")"
   ]
  },
  {
   "cell_type": "code",
   "execution_count": null,
   "id": "2ba13eb1",
   "metadata": {
    "scrolled": true
   },
   "outputs": [],
   "source": [
    "# Plotting the correlation between age and heart disease\n",
    "labels = healthcare_dataset_df['HEART_DISEASE_BOOL'].unique()\n",
    "data = [healthcare_dataset_df[healthcare_dataset_df['HEART_DISEASE_BOOL'] == label]['AGE'] for label in labels]\n",
    "\n",
    "plt.boxplot(data, labels=labels)\n",
    "plt.title('Box Plot of Age for Heart Disease (True/False)')\n",
    "plt.xlabel('Heart Disease')\n",
    "plt.ylabel('Age')\n",
    "plt.show()"
   ]
  },
  {
   "cell_type": "code",
   "execution_count": null,
   "id": "a9e66846",
   "metadata": {
    "scrolled": false
   },
   "outputs": [],
   "source": [
    "# Finding out number of male population who have either diabetes, hypertension and heart disease\n",
    "\n",
    "# Filter the DataFrame to include only male population\n",
    "male_data = healthcare_dataset_df[healthcare_dataset_df['GENDER'] == 'Male']\n",
    "\n",
    "# Count total number of male population in the dataset\n",
    "count_of_males = len(male_data)\n",
    "\n",
    "# Count occurrences of diabetes, hypertension, and heart disease for males\n",
    "male_conditions_count = male_data[['DIABETES', 'HYPERTENSION', 'HEART_DISEASE']].sum()"
   ]
  },
  {
   "cell_type": "code",
   "execution_count": null,
   "id": "ac8c9cdc",
   "metadata": {},
   "outputs": [],
   "source": [
    "# Calculate percentage of each disease with respect to total males\n",
    "percentage_diabetes = (male_conditions_count['DIABETES'] / count_of_males) * 100\n",
    "percentage_hypertension = (male_conditions_count['HYPERTENSION'] / count_of_males) * 100\n",
    "percentage_heart_disease = (male_conditions_count['HEART_DISEASE'] / count_of_males) * 100\n",
    "\n",
    "# Plotting the counts\n",
    "labels = ['Diabetes', 'Hypertension', 'Heart Disease']\n",
    "counts = male_conditions_count.values\n",
    "\n",
    "plt.bar(labels, counts, color=['blue', 'green', 'red'])\n",
    "plt.xlabel('Conditions')\n",
    "plt.ylabel('Count')\n",
    "plt.title('Count of Male Population with Diabetes, Hypertension, and Heart Disease')\n",
    "\n",
    "# Print total number of males and percentages\n",
    "print(f\"Total male population in the dataset is :  {count_of_males}\")\n",
    "print(f\"% of male population having diabetes :  {percentage_diabetes:.2f}\"  + \" %\")\n",
    "print(f\"% of male population having hypertension :  {percentage_hypertension:.2f}\"  + \" %\")\n",
    "print(f\"% of male population having heart disease :  {percentage_heart_disease:.2f}\"  + \" %\")\n",
    "\n",
    "plt.show()"
   ]
  },
  {
   "cell_type": "code",
   "execution_count": null,
   "id": "df42aec2",
   "metadata": {},
   "outputs": [],
   "source": [
    "# Finding out number of female population who have either diabetes, hypertension and heart disease\n",
    "\n",
    "# Filter the DataFrame to include only female population\n",
    "female_data = healthcare_dataset_df[healthcare_dataset_df['GENDER'] == 'Female']\n",
    "\n",
    "# Count total number of female population in the dataset\n",
    "count_of_females = len(female_data)\n",
    "\n",
    "# Count occurrences of diabetes, hypertension, and heart disease for males\n",
    "female_conditions_count = female_data[['DIABETES', 'HYPERTENSION', 'HEART_DISEASE']].sum()"
   ]
  },
  {
   "cell_type": "code",
   "execution_count": null,
   "id": "086ff341",
   "metadata": {},
   "outputs": [],
   "source": [
    "# Calculate percentage of each disease with respect to total females\n",
    "percentage_diabetes_female = (female_conditions_count['DIABETES'] / count_of_females) * 100\n",
    "percentage_hypertension_female = (female_conditions_count['HYPERTENSION'] / count_of_females) * 100\n",
    "percentage_heart_disease_female = (female_conditions_count['HEART_DISEASE'] / count_of_females) * 100\n",
    "\n",
    "# Plotting the counts\n",
    "labels = ['Diabetes', 'Hypertension', 'Heart Disease']\n",
    "counts = female_conditions_count.values\n",
    "\n",
    "plt.bar(labels, counts, color=['blue', 'green', 'red'])\n",
    "plt.xlabel('Conditions')\n",
    "plt.ylabel('Count')\n",
    "plt.title('Count of Female Population with Diabetes, Hypertension, and Heart Disease')\n",
    "\n",
    "# Print total number of males and percentages\n",
    "print(f\"Total female population in the dataset is :  {count_of_females}\")\n",
    "print(f\"% of female population having diabetes :  {percentage_diabetes_female:.2f}\"  + \" %\")\n",
    "print(f\"% of female population having hypertension :  {percentage_hypertension_female:.2f}\"  + \" %\")\n",
    "print(f\"% of female population having heart disease :  {percentage_heart_disease_female:.2f}\"  + \" %\")\n",
    "\n",
    "plt.show()"
   ]
  },
  {
   "cell_type": "code",
   "execution_count": null,
   "id": "4a6b3b57",
   "metadata": {},
   "outputs": [],
   "source": [
    "# Extract relevant columns\n",
    "bmi = healthcare_dataset_df['BMI']\n",
    "blood_glucose_level = healthcare_dataset_df['BLOOD_GLUCOSE_LEVEL']\n",
    "diabetes = healthcare_dataset_df['DIABETES']"
   ]
  },
  {
   "cell_type": "code",
   "execution_count": null,
   "id": "76e478f3",
   "metadata": {},
   "outputs": [],
   "source": [
    "# Calculate correlation between bmi and diabetes and blood glucose level and diabetes\n",
    "correlation_diabetes_glucose = diabetes.corr(blood_glucose_level)\n",
    "correlation_diabetes_bmi = diabetes.corr(bmi)\n",
    "\n",
    "# Print correlation\n",
    "print(f'Correlation between blood glucose level and diabetes: {correlation_diabetes_glucose}')\n",
    "print(f'Correlation between BMI and diabetes: {correlation_diabetes_bmi}')"
   ]
  },
  {
   "cell_type": "code",
   "execution_count": null,
   "id": "71ab3814",
   "metadata": {},
   "outputs": [],
   "source": [
    "# Create a scatter plot\n",
    "plt.figure(figsize=(10, 6))\n",
    "colors = ['blue' if status == 0 else 'red' for status in diabetes]\n",
    "plt.scatter(bmi, blood_glucose_level, c=colors, alpha=0.7)\n",
    "plt.title('Correlation between BMI, Blood Glucose Level and diabetes')\n",
    "plt.xlabel('BMI')\n",
    "plt.ylabel('Blood Glucose Level')\n",
    "plt.legend(handles=[plt.Line2D([0], [0], marker='o', color='w', markerfacecolor='blue', markersize=10, label='No Diabetes'),\n",
    "                    plt.Line2D([0], [0], marker='o', color='w', markerfacecolor='red', markersize=10, label='Diabetes')],\n",
    "           title='Diabetes', loc='upper right')\n",
    "plt.show()"
   ]
  },
  {
   "cell_type": "code",
   "execution_count": null,
   "id": "51cc90b6",
   "metadata": {},
   "outputs": [],
   "source": [
    "#Question 4 & 5: Distribution of diabetes, heart disease and hypertension across age groups\n",
    "#Create binsand labels by age\n",
    "bins = [0, 30, 50, 70, 90]\n",
    "ranges = ['<30', '30-50', '50-70', 'Over 70']\n",
    "\n",
    "#Bin subjects by age-group and pull those where Diabetes == 1\n",
    "healthcare_dataset_df['Age Group'] = pd.cut(healthcare_dataset_df['AGE'], bins, labels=ranges)\n",
    "\n",
    "#diabetes == 1\n",
    "diabetes_df = healthcare_dataset_df[healthcare_dataset_df['DIABETES'].astype('int') == 1]\n",
    "#Get count by age group \n",
    "diabetes_data = diabetes_df.groupby(\"Age Group\", observed=False)['DIABETES'].agg('count')\n",
    "diabetes_age_df = pd.DataFrame({'Age Group': diabetes_data.index, \"Diabetes Count\": diabetes_data.values})\n",
    "\n",
    "#hypertension == 1\n",
    "hypertension_df = healthcare_dataset_df[healthcare_dataset_df['HYPERTENSION'].astype('int') == 1]\n",
    "#Get count by age group \n",
    "hyper_data = hypertension_df.groupby(\"Age Group\", observed=False)['HYPERTENSION'].agg('count')\n",
    "hypertension_age_df = pd.DataFrame({'Age Group': hyper_data.index, \"Hypertension Count\": hyper_data.values})\n",
    "\n",
    "#heart disease == 1\n",
    "heart_disease_df = healthcare_dataset_df[healthcare_dataset_df['HEART_DISEASE'].astype('int') == 1]\n",
    "#Get count by age group\n",
    "heartd_data = hypertension_df.groupby(\"Age Group\", observed=False)['HEART_DISEASE'].agg('count')\n",
    "heartd_by_age_df = pd.DataFrame({'Age Group': heartd_data.index, \"HeartD Count\": heartd_data.values})\n",
    "\n",
    "#Merge all into single df\n",
    "all_health_df = diabetes_age_df.merge(hypertension_age_df, on='Age Group', how='left')\n",
    "all_health_df = all_health_df.merge(heartd_by_age_df, on='Age Group', how = 'left')\n",
    "\n",
    "#plot on chart\n",
    "all_health_df.plot(kind='bar')\n",
    "plt.xlabel(\"Age Group\", fontsize=12)\n",
    "plt.ylabel(\"Positive Count\", fontsize=12)\n",
    "plt.xticks(np.arange(4), all_health_df['Age Group'])\n",
    "plt.savefig('Images/Health-by-Age.png')\n",
    "plt.show()\n"
   ]
  },
  {
   "cell_type": "code",
   "execution_count": null,
   "id": "5da28d02-57a1-46c3-93a4-02357f325789",
   "metadata": {},
   "outputs": [],
   "source": [
    "#Question 6: Correlation between hbA1c/diabetes and heart disease/hypertension\n",
    "diabetes_hyper = healthcare_dataset_df['DIABETES'].corr(healthcare_dataset_df['HYPERTENSION'])\n",
    "diabetes_heartd = healthcare_dataset_df['DIABETES'].corr(healthcare_dataset_df['HEART_DISEASE'])\n",
    "\n",
    "#Display correlation for each comparison\n",
    "print(f'Correlation for diabetes to hypertension is {diabetes_hyper}.')\n",
    "print(f'Correlation for diabetes to heart disease is {diabetes_heartd}.')\n",
    "\n",
    "diabetes_hyper_df = healthcare_dataset_df[(healthcare_dataset_df['DIABETES'] == 1) & (healthcare_dataset_df['HYPERTENSION'] == 1)]\n"
   ]
  },
  {
   "cell_type": "code",
   "execution_count": null,
   "id": "086be9c6-e74d-473f-8efc-eae45327f28f",
   "metadata": {},
   "outputs": [],
   "source": [
    "### Pie chart of 60+ only, percent true or false for each disease"
   ]
  },
  {
   "cell_type": "code",
   "execution_count": null,
   "id": "79f9290d-6567-42fc-9619-7f4d08c48807",
   "metadata": {},
   "outputs": [],
   "source": [
    "# Create dataframe with only patients over 60\n",
    "over_60_df = healthcare_dataset_df.loc[healthcare_dataset_df['AGE'] >= 60]\n",
    "over_60_df.head()"
   ]
  },
  {
   "cell_type": "code",
   "execution_count": null,
   "id": "9daa7ac0-8e63-4e84-ad9b-cd299a10e84c",
   "metadata": {},
   "outputs": [],
   "source": [
    "# Distribution of heart disease in patients over 60\n",
    "heart_disease_over_60 = over_60_df['HEART_DISEASE_BOOL'].value_counts()\n",
    "\n",
    "# Pie chart\n",
    "plt.figure(figsize=(10, 6))\n",
    "plt.pie(heart_disease_over_60, labels=heart_disease_over_60.index, autopct='%1.1f%%', startangle=140)\n",
    "plt.title('Distribution of Heart Disease in Patients Over 60')\n",
    "plt.show()\n",
    "\n",
    "heart_disease_over_60"
   ]
  },
  {
   "cell_type": "code",
   "execution_count": null,
   "id": "223d602f-c317-4ce3-8c63-d6f28387c2e9",
   "metadata": {},
   "outputs": [],
   "source": [
    "# Distribution of diabetes in patients over 60\n",
    "diabetes_over_60 = over_60_df['DIABETES_BOOL'].value_counts()\n",
    "\n",
    "# Pie chart\n",
    "plt.figure(figsize=(10, 6))\n",
    "plt.pie(diabetes_over_60, labels=diabetes_over_60.index, autopct='%1.1f%%', startangle=140)\n",
    "plt.title('Distribution of Diabetes in Patients Over 60')\n",
    "plt.show()\n",
    "\n",
    "diabetes_over_60"
   ]
  },
  {
   "cell_type": "code",
   "execution_count": null,
   "id": "e26f3656-fe7d-4631-8626-7be626d39a4a",
   "metadata": {},
   "outputs": [],
   "source": [
    "# Distribution of diabetes in Hypertension over 60\n",
    "hypertension_over_60 = over_60_df['HYPERTENSION_BOOL'].value_counts()\n",
    "\n",
    "# Pie chart\n",
    "plt.figure(figsize=(10, 6))\n",
    "plt.pie(hypertension_over_60, labels=hypertension_over_60.index, autopct='%1.1f%%', startangle=140)\n",
    "plt.title('Distribution of Hypertension in Patients Over 60')\n",
    "plt.show()\n",
    "\n",
    "hypertension_over_60"
   ]
  },
  {
   "cell_type": "code",
   "execution_count": null,
   "id": "1e1f6a18-1a74-4d2f-9678-649c93032ae6",
   "metadata": {},
   "outputs": [],
   "source": [
    "# Distribution of having any of the 3 diseases in patients over 60\n",
    "# Create a dataframe with a new column 'ANY_DISEASE' that is True if the patient has any of the 3 diseases\n",
    "over_60_df['ANY_DISEASE'] = over_60_df['HYPERTENSION_BOOL'] | over_60_df['HEART_DISEASE_BOOL'] | over_60_df['DIABETES_BOOL']\n",
    "any_disease_over_60 = over_60_df['ANY_DISEASE'].value_counts()\n",
    "over_60_df.head()"
   ]
  },
  {
   "cell_type": "code",
   "execution_count": null,
   "id": "4882a127-7a9e-4be9-8c85-84472fc8e3ee",
   "metadata": {},
   "outputs": [],
   "source": [
    "# Display a pie chart of the distribution of having any of the 3 diseases in patients over 60\n",
    "plt.figure(figsize=(10, 6))\n",
    "plt.pie(any_disease_over_60, labels=any_disease_over_60.index, autopct='%1.1f%%', startangle=140)\n",
    "plt.title('Distribution of Having Any of the 3 Diseases in Patients Over 60')\n",
    "plt.show()\n"
   ]
  },
  {
   "cell_type": "code",
   "execution_count": null,
   "id": "4898475b-a524-467e-ae21-2b2982f3301d",
   "metadata": {},
   "outputs": [],
   "source": [
    "# What's the correlation between smoking history and the three diseases?\n",
    "# Remove rows with 'No Info' in smoking_status column\n",
    "healthcare_dataset_smoke_df = healthcare_dataset_df[healthcare_dataset_df['SMOKING_HISTORY'] != 'No Info']\n",
    "healthcare_dataset_smoke_df.head()"
   ]
  },
  {
   "cell_type": "code",
   "execution_count": null,
   "id": "60a3f5b5-1c41-4df4-9a43-db5f1ddb339d",
   "metadata": {},
   "outputs": [],
   "source": [
    "# Calculate correlation coefficient between smoking history and (diabetes) \n",
    "correlation_smoking_diabetes_never, _ = pearsonr(healthcare_dataset_smoke_df['SMOKING_HISTORY'] == 'never', healthcare_dataset_smoke_df['DIABETES_BOOL'])\n",
    "correlation_smoking_diabetes_current, _ = pearsonr(healthcare_dataset_smoke_df['SMOKING_HISTORY'] == 'current', healthcare_dataset_smoke_df['DIABETES_BOOL'])\n",
    "correlation_smoking_diabetes_former, _ = pearsonr(healthcare_dataset_smoke_df['SMOKING_HISTORY'] == 'former', healthcare_dataset_smoke_df['DIABETES_BOOL'])\n",
    "correlation_smoking_diabetes_ever, _ = pearsonr(healthcare_dataset_smoke_df['SMOKING_HISTORY'] == 'ever', healthcare_dataset_smoke_df['DIABETES_BOOL'])\n",
    "correlation_smoking_diabetes_not_current, _ = pearsonr(healthcare_dataset_smoke_df['SMOKING_HISTORY'] == 'not current', healthcare_dataset_smoke_df['DIABETES_BOOL'])\n",
    "\n",
    "\n",
    "print(f\"Correlation between a 'Never'smoking history and diabetes is : {correlation_smoking_diabetes_never:.4f}\")\n",
    "print(f\"Correlation between a 'current'smoking history and diabetes is : {correlation_smoking_diabetes_current:.4f}\")\n",
    "print(f\"Correlation between a 'former'smoking history and diabetes is : {correlation_smoking_diabetes_former:.4f}\")\n",
    "print(f\"Correlation between a 'ever'smoking history and diabetes is : {correlation_smoking_diabetes_ever:.4f}\")\n",
    "print(f\"Correlation between a 'not current'smoking history and diabetes is : {correlation_smoking_diabetes_not_current:.4f}\")"
   ]
  },
  {
   "cell_type": "code",
   "execution_count": null,
   "id": "a6d74ddd-9cae-4fbe-9b4d-6b914fb47c87",
   "metadata": {},
   "outputs": [],
   "source": [
    "# Calculate correlation coefficient between smoking history and (hypertension)\n",
    "correlation_smoking_hypertension_never, _ = pearsonr(healthcare_dataset_smoke_df['SMOKING_HISTORY'] == 'never', healthcare_dataset_smoke_df['HYPERTENSION_BOOL'])\n",
    "correlation_smoking_hypertension_current, _ = pearsonr(healthcare_dataset_smoke_df['SMOKING_HISTORY'] == 'current', healthcare_dataset_smoke_df['HYPERTENSION_BOOL'])\n",
    "correlation_smoking_hypertension_former, _ = pearsonr(healthcare_dataset_smoke_df['SMOKING_HISTORY'] == 'former', healthcare_dataset_smoke_df['HYPERTENSION_BOOL'])\n",
    "correlation_smoking_hypertension_ever, _ = pearsonr(healthcare_dataset_smoke_df['SMOKING_HISTORY'] == 'ever', healthcare_dataset_smoke_df['HYPERTENSION_BOOL'])\n",
    "correlation_smoking_hypertension_not_current, _ = pearsonr(healthcare_dataset_smoke_df['SMOKING_HISTORY'] == 'not current', healthcare_dataset_smoke_df['HYPERTENSION_BOOL'])\n",
    "\n",
    "\n",
    "print(f\"Correlation between a 'Never'smoking history and hypertension is : {correlation_smoking_hypertension_never:.4f}\")\n",
    "print(f\"Correlation between a 'current'smoking history and hypertension is : {correlation_smoking_hypertension_current:.4f}\")\n",
    "print(f\"Correlation between a 'former'smoking history and hypertension is : {correlation_smoking_hypertension_former:.4f}\")\n",
    "print(f\"Correlation between a 'ever'smoking history and hypertension is : {correlation_smoking_hypertension_ever:.4f}\")\n",
    "print(f\"Correlation between a 'not current'smoking history and hypertension is : {correlation_smoking_hypertension_not_current:.4f}\")"
   ]
  },
  {
   "cell_type": "code",
   "execution_count": null,
   "id": "32ac0a90-40d7-4a07-9bc1-224240e5f653",
   "metadata": {},
   "outputs": [],
   "source": [
    "# Calculate correlation coefficient between smoking history and (heart disease)\n",
    "correlation_smoking_hypertension_never, _ = pearsonr(healthcare_dataset_smoke_df['SMOKING_HISTORY'] == 'never', healthcare_dataset_smoke_df['HEART_DISEASE_BOOL'])\n",
    "correlation_smoking_hypertension_current, _ = pearsonr(healthcare_dataset_smoke_df['SMOKING_HISTORY'] == 'current', healthcare_dataset_smoke_df['HEART_DISEASE_BOOL'])\n",
    "correlation_smoking_hypertension_former, _ = pearsonr(healthcare_dataset_smoke_df['SMOKING_HISTORY'] == 'former', healthcare_dataset_smoke_df['HEART_DISEASE_BOOL'])\n",
    "correlation_smoking_hypertension_ever, _ = pearsonr(healthcare_dataset_smoke_df['SMOKING_HISTORY'] == 'ever', healthcare_dataset_smoke_df['HEART_DISEASE_BOOL'])\n",
    "correlation_smoking_hypertension_not_current, _ = pearsonr(healthcare_dataset_smoke_df['SMOKING_HISTORY'] == 'not current', healthcare_dataset_smoke_df['HEART_DISEASE_BOOL'])\n",
    "\n",
    "\n",
    "print(f\"Correlation between a 'Never'smoking history and heart disease is : {correlation_smoking_hypertension_never:.4f}\")\n",
    "print(f\"Correlation between a 'current'smoking history and heart disease is : {correlation_smoking_hypertension_current:.4f}\")\n",
    "print(f\"Correlation between a 'former'smoking history and heart disease is : {correlation_smoking_hypertension_former:.4f}\")\n",
    "print(f\"Correlation between a 'ever'smoking history and heart disease is : {correlation_smoking_hypertension_ever:.4f}\")\n",
    "print(f\"Correlation between a 'not current'smoking history and heart disease is : {correlation_smoking_hypertension_not_current:.4f}\")"
   ]
  },
  {
   "cell_type": "code",
   "execution_count": null,
   "id": "7879ea4e-7bdf-414a-a45a-b833828629d2",
   "metadata": {},
   "outputs": [],
   "source": [
    "# Display bar chart of correlation between smoking history and (diabetes)\n",
    "smoking_diabetes_corr_y = [correlation_smoking_diabetes_never, correlation_smoking_diabetes_current, correlation_smoking_diabetes_former, correlation_smoking_diabetes_ever, correlation_smoking_diabetes_not_current]\n",
    "smoking_diabetes_corr_x = ['Never', 'Current', 'Former', 'Ever', 'Not Current']\n",
    "plt.bar(smoking_diabetes_corr_x, smoking_diabetes_corr_y)\n",
    "plt.title('Correlation between Smoking History and Diabetes')\n",
    "plt.xlabel('Smoking History')\n",
    "plt.ylabel('Correlation')\n",
    "plt.show()"
   ]
  },
  {
   "cell_type": "code",
   "execution_count": null,
   "id": "8b00ee37-68ed-4318-86e6-dc7b80a7c082",
   "metadata": {},
   "outputs": [],
   "source": [
    "# Display bar chart of correlation between smoking history and (hypertension)\n",
    "smoking_hypertension_corr_y = [correlation_smoking_hypertension_never, correlation_smoking_hypertension_current, correlation_smoking_hypertension_former, correlation_smoking_hypertension_ever, correlation_smoking_hypertension_not_current]\n",
    "smoking_hypertension_corr_x = ['Never', 'Current', 'Former', 'Ever', 'Not Current']\n",
    "plt.bar(smoking_hypertension_corr_x, smoking_hypertension_corr_y)\n",
    "plt.title('Correlation between Smoking History and Hypertension')\n",
    "plt.xlabel('Smoking History')\n",
    "plt.ylabel('Correlation')\n",
    "plt.show()"
   ]
  },
  {
   "cell_type": "code",
   "execution_count": null,
   "id": "5aa29936-b28e-40e6-8f0b-1fded4969af3",
   "metadata": {},
   "outputs": [],
   "source": [
    "# Display bar chart of correlation between smoking history and (heart disease)\n",
    "smoking_heart_disease_corr_y = [correlation_smoking_hypertension_never, correlation_smoking_hypertension_current, correlation_smoking_hypertension_former, correlation_smoking_hypertension_ever, correlation_smoking_hypertension_not_current]\n",
    "smoking_heart_disease_corr_x = ['Never', 'Current', 'Former', 'Ever', 'Not Current']\n",
    "plt.bar(smoking_heart_disease_corr_x, smoking_heart_disease_corr_y)\n",
    "plt.title('Correlation between Smoking History and Heart Disease')\n",
    "plt.xlabel('Smoking History')\n",
    "plt.ylabel('Correlation')\n",
    "plt.show()"
   ]
  },
  {
   "cell_type": "code",
   "execution_count": null,
   "id": "e475e344-2561-4b89-971c-31dbd178d9c6",
   "metadata": {},
   "outputs": [],
   "source": [
    "# Age distribution based on smoking history\n",
    "\n",
    "# Create a dataframe with only Former smokers\n",
    "former_smokers_df = healthcare_dataset_smoke_df[healthcare_dataset_smoke_df['SMOKING_HISTORY'] == 'former']\n",
    "former_smokers_df.head(9299)\n",
    "\n",
    "# Age distribution of former smokers\n",
    "plt.figure(figsize=(10, 6))\n",
    "sns.histplot(former_smokers_df['AGE'], kde=True)\n",
    "plt.title('Age Distribution of Former Smokers')\n",
    "plt.xlabel('Age')\n",
    "plt.ylabel('Count')\n",
    "plt.show()"
   ]
  },
  {
   "cell_type": "code",
   "execution_count": null,
   "id": "9d10d9c6-4e2d-497f-9a53-769f12779240",
   "metadata": {},
   "outputs": [],
   "source": [
    "# Create a dataframe with only Current smokers\n",
    "current_smokers_df = healthcare_dataset_smoke_df[healthcare_dataset_smoke_df['SMOKING_HISTORY'] == 'current']\n",
    "current_smokers_df.head(9197)\n",
    "\n",
    "# Age distribution of current smokers\n",
    "plt.figure(figsize=(10, 6))\n",
    "sns.histplot(current_smokers_df['AGE'], kde=True)\n",
    "plt.title('Age Distribution of Current Smokers')\n",
    "plt.xlabel('Age')\n",
    "plt.ylabel('Count')\n",
    "plt.show()"
   ]
  },
  {
   "cell_type": "code",
   "execution_count": null,
   "id": "5f73a1e0-6d69-49fd-96ae-e9cdd215cc10",
   "metadata": {},
   "outputs": [],
   "source": [
    "# Create a dataframe with only Never smokers\n",
    "never_smokers_df = healthcare_dataset_smoke_df[healthcare_dataset_smoke_df['SMOKING_HISTORY'] == 'never']\n",
    "never_smokers_df.head(9197)\n",
    "\n",
    "# Age distribution of never smokers\n",
    "plt.figure(figsize=(10, 6))\n",
    "sns.histplot(never_smokers_df['AGE'], kde=True)\n",
    "plt.title('Age Distribution of Never Smokers')\n",
    "plt.xlabel('Age')\n",
    "plt.ylabel('Count')\n",
    "plt.show()"
   ]
  },
  {
   "cell_type": "code",
   "execution_count": null,
   "id": "13b99c34-78fa-4b4d-b22b-75fb62d0b15d",
   "metadata": {},
   "outputs": [],
   "source": [
    "# Create a dataframe with only Ever smokers\n",
    "ever_smokers_df = healthcare_dataset_smoke_df[healthcare_dataset_smoke_df['SMOKING_HISTORY'] == 'ever']\n",
    "ever_smokers_df.head(9197)\n",
    "\n",
    "# Age distribution of ever smokers\n",
    "plt.figure(figsize=(10, 6))\n",
    "sns.histplot(ever_smokers_df['AGE'], kde=True)\n",
    "plt.title('Age Distribution of Ever Smokers')\n",
    "plt.xlabel('Age')\n",
    "plt.ylabel('Count')\n",
    "plt.show()"
   ]
  },
  {
   "cell_type": "code",
   "execution_count": null,
   "id": "ec39f31f-4366-4fff-906c-f1f857579727",
   "metadata": {},
   "outputs": [],
   "source": [
    "# Census API\n",
    "# Import U.S. Census API Key\n",
    "from census import Census\n",
    "from config import api_key\n",
    "\n",
    "# Create an instance of the Census library\n",
    "c = Census(\n",
    "    api_key,\n",
    "    year = 2022\n",
    ")"
   ]
  },
  {
   "cell_type": "code",
   "execution_count": null,
   "id": "4adb2cac-bdf1-41c7-9176-533f92f89d82",
   "metadata": {},
   "outputs": [],
   "source": [
    "# Get Arizona's total population data\n",
    "az_pop = c.acs5.get(('NAME', 'B01003_001E'), {'for': 'state:04'})\n",
    "\n",
    "# 'NAME' is the name of the state\n",
    "# 'B01003_001E' is the Census code for total population\n",
    "# 'for': 'state:04' means get data for Arizona (state code 04)\n",
    "\n",
    "# Print the data\n",
    "for data in az_pop:\n",
    "    print(data)"
   ]
  },
  {
   "cell_type": "code",
   "execution_count": null,
   "id": "6d3204fb-de81-49f1-957b-01bb1fbe3b8d",
   "metadata": {},
   "outputs": [],
   "source": [
    "# Gather census data. Create pie chart of how over 60, histogram of different age groups. \n",
    "# Get Arizona's total population data broken down by age\n",
    "az_pop_age = c.acs5.get(('NAME', 'B01001_001E', 'B01001_003E', 'B01001_004E', 'B01001_005E', 'B01001_006E', \n",
    "                         'B01001_007E', 'B01001_008E', 'B01001_009E', 'B01001_010E', 'B01001_011E', 'B01001_012E', \n",
    "                         'B01001_013E', 'B01001_014E', 'B01001_015E', 'B01001_016E', 'B01001_017E', 'B01001_018E', \n",
    "                         'B01001_019E', 'B01001_020E', 'B01001_021E', 'B01001_022E', 'B01001_023E', 'B01001_024E', \n",
    "                         'B01001_025E', 'B01001_026E', 'B01001_027E', 'B01001_028E', 'B01001_029E', 'B01001_030E', \n",
    "                         'B01001_031E', 'B01001_032E', 'B01001_033E', 'B01001_034E', 'B01001_035E', 'B01001_036E', \n",
    "                         'B01001_037E', 'B01001_038E', 'B01001_039E', 'B01001_040E', 'B01001_041E', 'B01001_042E', \n",
    "                         'B01001_043E', 'B01001_044E', 'B01001_045E', 'B01001_046E', 'B01001_047E', 'B01001_048E', \n",
    "                         'B01001_049E'), {'for': 'state:04'})\n",
    "\n",
    "# 'NAME' is the name of the state\n",
    "# 'B01001_001E' is the Census code for total population\n",
    "# 'B01001_003E' to 'B01001_049E' are the Census codes for population by age for both genders\n",
    "# 'B01001_003E' to 'B01001_034E' are for men \n",
    "# 'B01001_035E' to 'B01001_049E' are for women\n",
    "# 'for': 'state:04' means get data for Arizona (state code 04)\n",
    "\n",
    "# Print the data\n",
    "for data in az_pop_age:\n",
    "    print(data)"
   ]
  },
  {
   "cell_type": "code",
   "execution_count": null,
   "id": "0dbda971-6804-4825-a17a-7f890d2f75a8",
   "metadata": {},
   "outputs": [],
   "source": [
    "# Create a dataframe from the population data\n",
    "az_pop_age_df = pd.DataFrame(az_pop_age)\n",
    "\n",
    "# Change the column names\n",
    "az_pop_age_df = az_pop_age_df.rename(columns={\n",
    "    'B01001_001E': 'Total population',\n",
    "    'B01001_002E': 'Male: Total',\n",
    "    'B01001_003E': 'Male: Under 5 years',\n",
    "    'B01001_004E': 'Male: 5 to 9 years',\n",
    "    'B01001_005E': 'Male: 10 to 14 years',\n",
    "    'B01001_006E': 'Male: 15 to 17 years',\n",
    "    'B01001_007E': 'Male: 18 and 19 years',\n",
    "    'B01001_008E': 'Male: 20 years',\n",
    "    'B01001_009E': 'Male: 21 years',\n",
    "    'B01001_010E': 'Male: 22 to 24 years',\n",
    "    'B01001_011E': 'Male: 25 to 29 years',\n",
    "    'B01001_012E': 'Male: 30 to 34 years',\n",
    "    'B01001_013E': 'Male: 35 to 39 years',\n",
    "    'B01001_014E': 'Male: 40 to 44 years',\n",
    "    'B01001_015E': 'Male: 45 to 49 years',\n",
    "    'B01001_016E': 'Male: 50 to 54 years',\n",
    "    'B01001_017E': 'Male: 55 to 59 years',\n",
    "    'B01001_018E': 'Male: 60 and 61 years',\n",
    "    'B01001_019E': 'Male: 62 to 64 years',\n",
    "    'B01001_020E': 'Male: 65 and 66 years',\n",
    "    'B01001_021E': 'Male: 67 to 69 years',\n",
    "    'B01001_022E': 'Male: 70 to 74 years',\n",
    "    'B01001_023E': 'Male: 75 to 79 years',\n",
    "    'B01001_024E': 'Male: 80 to 84 years',\n",
    "    'B01001_025E': 'Male: 85 years and over',\n",
    "    'B01001_026E': 'Female: Total',\n",
    "    'B01001_027E': 'Female: Under 5 years',\n",
    "    'B01001_028E': 'Female: 5 to 9 years',\n",
    "    'B01001_029E': 'Female: 10 to 14 years',\n",
    "    'B01001_030E': 'Female: 15 to 17 years',\n",
    "    'B01001_031E': 'Female: 18 and 19 years',\n",
    "    'B01001_032E': 'Female: 20 years',\n",
    "    'B01001_033E': 'Female: 21 years',\n",
    "    'B01001_034E': 'Female: 22 to 24 years',\n",
    "    'B01001_035E': 'Female: 25 to 29 years',\n",
    "    'B01001_036E': 'Female: 30 to 34 years',\n",
    "    'B01001_037E': 'Female: 35 to 39 years',\n",
    "    'B01001_038E': 'Female: 40 to 44 years',\n",
    "    'B01001_039E': 'Female: 45 to 49 years',\n",
    "    'B01001_040E': 'Female: 50 to 54 years',\n",
    "    'B01001_041E': 'Female: 55 to 59 years',\n",
    "    'B01001_042E': 'Female: 60 and 61 years',\n",
    "    'B01001_043E': 'Female: 62 to 64 years',\n",
    "    'B01001_044E': 'Female: 65 and 66 years',\n",
    "    'B01001_045E': 'Female: 67 to 69 years',\n",
    "    'B01001_046E': 'Female: 70 to 74 years',\n",
    "    'B01001_047E': 'Female: 75 to 79 years',\n",
    "    'B01001_048E': 'Female: 80 to 84 years',\n",
    "    'B01001_049E': 'Female: 85 years and over'\n",
    "})\n",
    "\n",
    "# Display the dataframe\n",
    "az_pop_age_df.head()\n",
    "\n",
    "# Create a csv file from the dataframe\n",
    "# az_pop_age_df.to_csv('Data/az_population_by_age.csv', index=False)"
   ]
  },
  {
   "cell_type": "code",
   "execution_count": null,
   "id": "d8d6de28-b075-4aa5-8bcf-373c251086a1",
   "metadata": {},
   "outputs": [],
   "source": [
    "# Create Dataframe for the age group 60 and over\n",
    "az_pop_age_60_df = az_pop_age_df[['Male: 60 and 61 years', 'Male: 62 to 64 years', \n",
    "                                  'Male: 65 and 66 years', 'Male: 67 to 69 years', \n",
    "                                  'Male: 70 to 74 years', 'Male: 75 to 79 years', \n",
    "                                  'Male: 80 to 84 years', 'Male: 85 years and over',\n",
    "                                  'Female: 60 and 61 years', 'Female: 62 to 64 years',\n",
    "                                  'Female: 65 and 66 years', 'Female: 67 to 69 years',\n",
    "                                  'Female: 70 to 74 years', 'Female: 75 to 79 years',\n",
    "                                  'Female: 80 to 84 years', 'Female: 85 years and over']]\n",
    "az_pop_age_60_df\n",
    "\n",
    "# Sum of males over 60\n",
    "male_over_60 = az_pop_age_60_df[['Male: 60 and 61 years', 'Male: 62 to 64 years', \n",
    "                              'Male: 65 and 66 years', 'Male: 67 to 69 years', \n",
    "                              'Male: 70 to 74 years', 'Male: 75 to 79 years', \n",
    "                              'Male: 80 to 84 years', 'Male: 85 years and over']].sum().sum()\n",
    "print(f'The population of females over 60 in AZ is {male_over_60}')\n",
    "\n",
    "# Sum of females over 60\n",
    "female_over_60 = az_pop_age_60_df[['Female: 65 and 66 years', 'Female: 67 to 69 years',\n",
    "                                  'Female: 70 to 74 years', 'Female: 75 to 79 years',\n",
    "                                  'Female: 80 to 84 years', 'Female: 85 years and over']].sum().sum()\n",
    "print(f'The population of females over 60 in AZ is {female_over_60}')\n",
    "\n",
    "# Total population over 60\n",
    "total_over = int(female_over_60 + male_over_60)\n",
    "print(f'The total population over 60 in AZ is {total_over}')\n",
    "\n",
    "# Total population in AZ\n",
    "total_population = az_pop_age_df['Total population']\n",
    "print(f'The total population in AZ is {total_population}')\n",
    "\n",
    "# Total population under 60\n",
    "total_under = int(total_population - total_over)\n",
    "print(f'The total population under 60 in AZ is {total_under}')"
   ]
  },
  {
   "cell_type": "code",
   "execution_count": null,
   "id": "434e2147-9513-40c3-aa01-034053761535",
   "metadata": {},
   "outputs": [],
   "source": [
    "# Create a pie chart of \n",
    "\n",
    "# Data to plot\n",
    "labels = 'Over 60 yrs', 'Under 60 yrs'\n",
    "sizes = [total_over, total_under]\n",
    "colors = ['gold', 'yellowgreen']\n",
    "explode = (0.1, 0)  # explode 1st slice\n",
    "\n",
    "# Plot\n",
    "plt.pie(sizes, explode=explode, labels=labels, colors=colors,\n",
    "autopct='%1.1f%%', shadow=True, startangle=140)\n",
    "\n",
    "plt.axis('equal')\n",
    "plt.title('Population Distribution in Arizona')\n",
    "plt.show()"
   ]
  },
  {
   "cell_type": "code",
   "execution_count": null,
   "id": "833f8b4b-7771-459f-889c-2efadc4903de",
   "metadata": {},
   "outputs": [],
   "source": [
    "# Calculate the percentage of the population over 60 that will suffer from at least one of the 3 diseases\n",
    "any_disease_over_60_true = any_disease_over_60[True]\n",
    "any_disease_over_60_false = any_disease_over_60[False]\n",
    "total_responses = any_disease_over_60_true + any_disease_over_60_false\n",
    "percentage_over_60_affected = (any_disease_over_60_true / total_responses) * 100\n",
    "print(f'{percentage_over_60_affected:.2f}% of the population over 60 will suffer from at least one of the 3 diseases')\n",
    "\n",
    "\n",
    "# of the 21%, 40% of them will sufer at lease one of the 3 diseases\n",
    "az_pop_over_60_affected_percent = (total_over/total_under) * percentage_over_60_affected\n",
    "\n",
    "# calculate how many people in AZ will suffer from at least one of the 3 diseases\n",
    "az_pop_over_60_affected_number = round((az_pop_over_60_affected_percent/100) * total_population).iloc[0]\n",
    "formatted_number = \"{:,}\".format(az_pop_over_60_affected_number)\n",
    "print(f'{formatted_number} people in Arizona are over 60 and suffering from at least one of the 3 diseases')\n"
   ]
  },
  {
   "cell_type": "code",
   "execution_count": null,
   "id": "cdfcb5d2-df85-4d75-8ed8-9d523f579358",
   "metadata": {},
   "outputs": [],
   "source": [
    "# Correlation between age and having any of the 3 diseases \n",
    "# Create a dataframe with a new column 'ANY_DISEASE' that is True if the patient has any of the 3 diseases\n",
    "healthcare_dataset_df['ANY_DISEASE'] = healthcare_dataset_df['HYPERTENSION_BOOL'] | healthcare_dataset_df['HEART_DISEASE_BOOL'] | healthcare_dataset_df['DIABETES_BOOL']\n",
    "any_disease_count = healthcare_dataset_df['ANY_DISEASE'].value_counts()\n",
    "healthcare_dataset_df.head()\n",
    "\n",
    "print(any_disease_count)\n",
    "\n",
    "any_disease_count_true = any_disease_count[True]\n",
    "any_disease_count_false = any_disease_count[False]\n",
    "total_responses_any_disease = any_disease_count_true + any_disease_count_false\n",
    "percentage_affected = (any_disease_count_true / total_responses_any_disease) * 100\n",
    "print(f'{percentage_affected:.2f}% of the population will suffer from at least one of the 3 diseases')\n",
    "\n",
    "# calculate how many people in the dataset will suffer from at least one of the 3 diseases\n",
    "total_az_pop_affected_number = round((percentage_affected/100) * total_population).iloc[0]\n",
    "formatted_number = \"{:,}\".format(total_az_pop_affected_number)\n",
    "print(f'{formatted_number} people in the dataset are suffering from at least one of the 3 diseases')\n",
    "\n"
   ]
  },
  {
   "cell_type": "code",
   "execution_count": null,
   "id": "936ed0ae",
   "metadata": {},
   "outputs": [],
   "source": []
  }
 ],
 "metadata": {
  "kernelspec": {
   "display_name": "Python 3 (ipykernel)",
   "language": "python",
   "name": "python3"
  },
  "language_info": {
   "codemirror_mode": {
    "name": "ipython",
    "version": 3
   },
   "file_extension": ".py",
   "mimetype": "text/x-python",
   "name": "python",
   "nbconvert_exporter": "python",
   "pygments_lexer": "ipython3",
   "version": "3.11.5"
  }
 },
 "nbformat": 4,
 "nbformat_minor": 5
}
