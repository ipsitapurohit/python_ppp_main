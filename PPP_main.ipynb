{
 "cells": [
  {
   "cell_type": "code",
   "execution_count": null,
   "id": "300d3434",
   "metadata": {},
   "outputs": [],
   "source": [
    "# import dependencies\n",
    "import pandas as pd\n",
    "import matplotlib.pyplot as plt\n",
    "from scipy.stats import pearsonr \n",
    "from pathlib import Path\n",
    "import numpy as np"
   ]
  },
  {
   "cell_type": "code",
   "execution_count": null,
   "id": "1111dd1c",
   "metadata": {},
   "outputs": [],
   "source": [
    "# Store filepath into variable\n",
    "healthcare_dataset_csv = Path(\"Data/healthcare_dataset.csv\")"
   ]
  },
  {
   "cell_type": "code",
   "execution_count": null,
   "id": "13c55957",
   "metadata": {},
   "outputs": [],
   "source": [
    "# Reading in file.\n",
    "# adding three boolean columns for all the 3 diseases(0 = 'FALSE', 1 = 'TRUE').\n",
    "healthcare_dataset_df = pd.read_csv(healthcare_dataset_csv, low_memory=False)\n",
    "healthcare_dataset_df['hypertension_bool'] = healthcare_dataset_df['hypertension'].astype(bool)\n",
    "healthcare_dataset_df['heart_disease_bool'] = healthcare_dataset_df['heart_disease'].astype(bool)\n",
    "healthcare_dataset_df['diabetes_bool'] = healthcare_dataset_df['diabetes'].astype(bool)\n",
    "healthcare_dataset_df.head()"
   ]
  },
  {
   "cell_type": "code",
   "execution_count": null,
   "id": "79a2353e",
   "metadata": {},
   "outputs": [],
   "source": [
    "#handling missing values\n",
    "healthcare_dataset_df.isnull().sum()"
   ]
  },
  {
   "cell_type": "code",
   "execution_count": null,
   "id": "a9bc551f",
   "metadata": {},
   "outputs": [],
   "source": [
    "# removing duplicate rows.\n",
    "healthcare_dataset_df = healthcare_dataset_df.drop_duplicates()"
   ]
  },
  {
   "cell_type": "code",
   "execution_count": null,
   "id": "996a9422",
   "metadata": {},
   "outputs": [],
   "source": [
    "# renaming the Column header Names:\n",
    "healthcare_dataset_df.columns = healthcare_dataset_df.columns.str.upper()\n",
    "healthcare_dataset_df.head()"
   ]
  },
  {
   "cell_type": "code",
   "execution_count": null,
   "id": "e7ee30df",
   "metadata": {},
   "outputs": [],
   "source": [
    "# Converting Data Types:\n",
    "healthcare_dataset_df['AGE'] = healthcare_dataset_df['AGE'].astype(int)\n",
    "healthcare_dataset_df['BLOOD_GLUCOSE_LEVEL'] = healthcare_dataset_df['BLOOD_GLUCOSE_LEVEL'].astype(float)\n",
    "healthcare_dataset_df.head()"
   ]
  },
  {
   "cell_type": "code",
   "execution_count": null,
   "id": "fc77db02",
   "metadata": {},
   "outputs": [],
   "source": [
    "# Calculate correlation coefficient between age and hypertension\n",
    "correlation_age_hypertension, _ = pearsonr(healthcare_dataset_df['AGE'], healthcare_dataset_df['HYPERTENSION_BOOL'])\n",
    "print(f\"Correlation between age and hypertension is : {correlation_age_hypertension:.2f}\")"
   ]
  },
  {
   "cell_type": "code",
   "execution_count": null,
   "id": "d10ee930",
   "metadata": {},
   "outputs": [],
   "source": [
    "# Plotting the correlation between age and hypertension\n",
    "labels = healthcare_dataset_df['HYPERTENSION_BOOL'].unique()\n",
    "data = [healthcare_dataset_df[healthcare_dataset_df['HYPERTENSION_BOOL'] == label]['AGE'] for label in labels]\n",
    "\n",
    "plt.boxplot(data, labels=labels)\n",
    "plt.title('Box Plot of Age for Hypertension (True/False)')\n",
    "plt.xlabel('Hypertension')\n",
    "plt.ylabel('Age')\n",
    "plt.show()"
   ]
  },
  {
   "cell_type": "code",
   "execution_count": null,
   "id": "1126ed74",
   "metadata": {},
   "outputs": [],
   "source": [
    "# Calculate correlation coefficient between age and heart_disease\n",
    "correlation_age_heart_disease, _ = pearsonr(healthcare_dataset_df['AGE'], healthcare_dataset_df['HEART_DISEASE_BOOL'])\n",
    "print(f\"Correlation between age and heart disease is : {correlation_age_heart_disease:.2f}\")"
   ]
  },
  {
   "cell_type": "code",
   "execution_count": null,
   "id": "2ba13eb1",
   "metadata": {},
   "outputs": [],
   "source": [
    "# Plotting the correlation between age and heart disease\n",
    "labels = healthcare_dataset_df['HEART_DISEASE_BOOL'].unique()\n",
    "data = [healthcare_dataset_df[healthcare_dataset_df['HEART_DISEASE_BOOL'] == label]['AGE'] for label in labels]\n",
    "\n",
    "plt.boxplot(data, labels=labels)\n",
    "plt.title('Box Plot of Age for Heart Disease (True/False)')\n",
    "plt.xlabel('Heart Disease')\n",
    "plt.ylabel('Age')\n",
    "plt.show()"
   ]
  },
  {
   "cell_type": "code",
   "execution_count": null,
   "id": "4a6b3b57",
   "metadata": {},
   "outputs": [],
   "source": [
    "# Extract relevant columns\n",
    "bmi = healthcare_dataset_df['BMI']\n",
    "blood_glucose_level = healthcare_dataset_df['BLOOD_GLUCOSE_LEVEL']\n",
    "diabetes = healthcare_dataset_df['DIABETES']"
   ]
  },
  {
   "cell_type": "code",
   "execution_count": null,
   "id": "76e478f3",
   "metadata": {},
   "outputs": [],
   "source": [
    "# Calculate correlation between bmi and diabetes and blood glucose level and diabetes\n",
    "correlation_diabetes_glucose = diabetes.corr(blood_glucose_level)\n",
    "correlation_diabetes_bmi = diabetes.corr(bmi)\n",
    "\n",
    "# Print correlation\n",
    "print(f'Correlation between blood glucose level and diabetes: {correlation_diabetes_glucose}')\n",
    "print(f'Correlation between BMI and diabetes: {correlation_diabetes_bmi}')"
   ]
  },
  {
   "cell_type": "code",
   "execution_count": null,
   "id": "71ab3814",
   "metadata": {},
   "outputs": [],
   "source": [
    "# Create a scatter plot\n",
    "plt.figure(figsize=(10, 6))\n",
    "colors = ['blue' if status == 0 else 'red' for status in diabetes]\n",
    "plt.scatter(bmi, blood_glucose_level, c=colors, alpha=0.7)\n",
    "plt.title('Correlation between BMI, Blood Glucose Level and diabetes')\n",
    "plt.xlabel('BMI')\n",
    "plt.ylabel('Blood Glucose Level')\n",
    "plt.legend(handles=[plt.Line2D([0], [0], marker='o', color='w', markerfacecolor='blue', markersize=10, label='No Diabetes'),\n",
    "                    plt.Line2D([0], [0], marker='o', color='w', markerfacecolor='red', markersize=10, label='Diabetes')],\n",
    "           title='Diabetes', loc='upper right')\n",
    "plt.show()"
   ]
  },
  {
   "cell_type": "code",
   "execution_count": null,
   "id": "51cc90b6",
   "metadata": {},
   "outputs": [],
   "source": [
    "#Question 4 & 5: Distribution of diabetes, heart disease and hypertension across age groups\n",
    "#Create binsand labels by age\n",
    "bins = [0, 30, 50, 70, 90]\n",
    "ranges = ['<30', '30-50', '50-70', 'Over 70']\n",
    "\n",
    "#Bin subjects by age-group and pull those where Diabetes == 1\n",
    "healthcare_dataset_df['Age Group'] = pd.cut(healthcare_dataset_df['AGE'], bins, labels=ranges)\n",
    "\n",
    "#diabetes == 1\n",
    "diabetes_df = healthcare_dataset_df[healthcare_dataset_df['DIABETES'].astype('int') == 1]\n",
    "#Get count by age group \n",
    "diabetes_data = diabetes_df.groupby(\"Age Group\", observed=False)['DIABETES'].agg('count')\n",
    "diabetes_age_df = pd.DataFrame({'Age Group': diabetes_data.index, \"Diabetes Count\": diabetes_data.values})\n",
    "\n",
    "#hypertension == 1\n",
    "hypertension_df = healthcare_dataset_df[healthcare_dataset_df['HYPERTENSION'].astype('int') == 1]\n",
    "#Get count by age group \n",
    "hyper_data = hypertension_df.groupby(\"Age Group\", observed=False)['HYPERTENSION'].agg('count')\n",
    "hypertension_age_df = pd.DataFrame({'Age Group': hyper_data.index, \"Hypertension Count\": hyper_data.values})\n",
    "\n",
    "#heart disease == 1\n",
    "heart_disease_df = healthcare_dataset_df[healthcare_dataset_df['HEART_DISEASE'].astype('int') == 1]\n",
    "#Get count by age group\n",
    "heartd_data = hypertension_df.groupby(\"Age Group\", observed=False)['HEART_DISEASE'].agg('count')\n",
    "heartd_by_age_df = pd.DataFrame({'Age Group': heartd_data.index, \"HeartD Count\": heartd_data.values})\n",
    "\n",
    "#Merge all into single df\n",
    "all_health_df = diabetes_age_df.merge(hypertension_age_df, on='Age Group', how='left')\n",
    "all_health_df = all_health_df.merge(heartd_by_age_df, on='Age Group', how = 'left')\n",
    "\n",
    "#plot on chart\n",
    "all_health_df.plot(kind='bar')\n",
    "plt.xlabel(\"Age Group\", fontsize=12)\n",
    "plt.ylabel(\"Positive Count\", fontsize=12)\n",
    "plt.xticks(np.arange(4), all_health_df['Age Group'])\n",
    "plt.savefig('Images/Health-by-Age.png')\n",
    "plt.show()\n"
   ]
  },
  {
   "cell_type": "code",
   "execution_count": null,
   "id": "5da28d02-57a1-46c3-93a4-02357f325789",
   "metadata": {},
   "outputs": [],
   "source": [
    "#Question 6: Correlation between hbA1c/diabetes and heart disease/hypertension\n",
    "diabetes_hyper = healthcare_dataset_df['DIABETES'].corr(healthcare_dataset_df['HYPERTENSION'])\n",
    "diabetes_heartd = healthcare_dataset_df['DIABETES'].corr(healthcare_dataset_df['HEART_DISEASE'])\n",
    "\n",
    "#Display correlation for each comparison\n",
    "print(f'Correlation for diabetes to hypertension is {diabetes_hyper}.')\n",
    "print(f'Correlation for diabetes to heart disease is {diabetes_heartd}.')\n",
    "\n",
    "diabetes_hyper_df = healthcare_dataset_df[(healthcare_dataset_df['DIABETES'] == 1) & (healthcare_dataset_df['HYPERTENSION'] == 1)]\n"
   ]
  },
  {
   "cell_type": "code",
   "execution_count": null,
   "id": "cdfcb5d2-df85-4d75-8ed8-9d523f579358",
   "metadata": {},
   "outputs": [],
   "source": []
  }
 ],
 "metadata": {
  "kernelspec": {
   "display_name": "Python 3 (ipykernel)",
   "language": "python",
   "name": "python3"
  },
  "language_info": {
   "codemirror_mode": {
    "name": "ipython",
    "version": 3
   },
   "file_extension": ".py",
   "mimetype": "text/x-python",
   "name": "python",
   "nbconvert_exporter": "python",
   "pygments_lexer": "ipython3",
   "version": "3.11.5"
  }
 },
 "nbformat": 4,
 "nbformat_minor": 5
}
